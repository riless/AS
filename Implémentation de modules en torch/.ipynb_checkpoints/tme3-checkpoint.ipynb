{
 "cells": [
  {
   "cell_type": "markdown",
   "metadata": {},
   "source": [
    "# TME3 - Implémentation de module Torch"
   ]
  },
  {
   "cell_type": "markdown",
   "metadata": {},
   "source": [
    "## Importation des outils"
   ]
  },
  {
   "cell_type": "code",
   "execution_count": 1,
   "metadata": {
    "collapsed": false
   },
   "outputs": [
    {
     "data": {
      "text/plain": [
       "importation des outils de génération de données et de visualisation\t\n"
      ]
     },
     "execution_count": 1,
     "metadata": {},
     "output_type": "execute_result"
    }
   ],
   "source": [
    "require 'torch'\n",
    "require 'nn'\n",
    "require 'gnuplot'\n",
    "require 'image'\n",
    "require 'tools'"
   ]
  },
  {
   "cell_type": "markdown",
   "metadata": {},
   "source": [
    "## Implémentation de la fonction d'activation ReQU"
   ]
  },
  {
   "cell_type": "code",
   "execution_count": 2,
   "metadata": {
    "collapsed": false,
    "scrolled": true
   },
   "outputs": [],
   "source": [
    "require 'torch'\n",
    "require 'nn'\n",
    "require 'gnuplot'\n",
    "\n",
    "local ReQU, Parent = torch.class('nn.ReQU2', 'nn.Module')\n",
    "\n",
    "function ReQU:__init()\n",
    "    Parent.__init(self)\n",
    "end\n",
    "\n",
    "-- forward\n",
    "function ReQU:updateOutput(input)\n",
    "    self.output:resizeAs(input):copy(input)\n",
    "    self.output[torch.le(input,0)] = 0\n",
    "    self.output:pow(2)\n",
    "    return self.output\n",
    "end\n",
    "\n",
    "-- backward\n",
    "function ReQU:updateGradInput(input, gradOutput)\n",
    "    self.gradInput = input * 2\n",
    "    self.gradInput[torch.le(input,0)] = 0\n",
    "    self.gradInput:cmul(gradOutput)\n",
    "    return self.gradInput \n",
    "end"
   ]
  },
  {
   "cell_type": "markdown",
   "metadata": {},
   "source": [
    "## Implémentation de la fonction d'activation Linear"
   ]
  },
  {
   "cell_type": "code",
   "execution_count": 3,
   "metadata": {
    "collapsed": false
   },
   "outputs": [],
   "source": [
    "local Linear, parent = torch.class('nn.Linear2', 'nn.Module')\n",
    "\n",
    "function Linear:reset()\n",
    "    self.weight = self.weight:uniform(-1, 1)\n",
    "end\n",
    "\n",
    "function Linear:__init(inputSize, outputSize)\n",
    "   parent.__init(self)\n",
    "   self.weight = torch.Tensor(outputSize, inputSize)\n",
    "   self.gradWeight = torch.Tensor(outputSize, inputSize)\n",
    "   self:reset()\n",
    "end\n",
    "\n",
    "-- forward\n",
    "function Linear:updateOutput(input)\n",
    "   if input:dim() == 1 then\n",
    "       self.output = self.weight * input\n",
    "   elseif input:dim() == 2 then\n",
    "       self.output = input * self.weight:t()\n",
    "   else\n",
    "        error('input must be vector or matrix')\n",
    "   end\n",
    "   return self.output\n",
    "end\n",
    "\n",
    "-- backward\n",
    "function Linear:updateGradInput(input, gradOutput)\n",
    "    self.gradInput = gradOutput * self.weight\n",
    "    return self.gradInput\n",
    "end\n",
    " \n",
    "function Linear:accGradParameters(input, gradOutput)\n",
    "   self.gradWeight = self.gradWeight + gradOutput:t() * input\n",
    "   return self.gradWeight\n",
    "end"
   ]
  },
  {
   "cell_type": "markdown",
   "metadata": {},
   "source": [
    "## Descente de gradient"
   ]
  },
  {
   "cell_type": "code",
   "execution_count": 4,
   "metadata": {
    "collapsed": false
   },
   "outputs": [],
   "source": [
    "function gradient_descent(x,y, criterion)\n",
    "  local ITERATION = 100\n",
    "  local GRADIENT_STEP = 1e-2\n",
    "  local module = nn.Linear2(x:size(2),1)\n",
    "  for i=1, ITERATION do\n",
    "    module:zeroGradParameters()\n",
    "    out = module:forward(x)\n",
    "    loss = criterion:forward(out, y) \n",
    "        \n",
    "    delta = criterion:backward(out,y)\n",
    "    module:backward(x, delta)\n",
    "    module:updateParameters(GRADIENT_STEP)\n",
    "    -- print(i, loss)\n",
    "  end\n",
    "\n",
    "  return { module }\n",
    "end"
   ]
  },
  {
   "cell_type": "markdown",
   "metadata": {},
   "source": [
    "## Descente de gradient + Linear2"
   ]
  },
  {
   "cell_type": "code",
   "execution_count": null,
   "metadata": {
    "collapsed": false
   },
   "outputs": [],
   "source": [
    "-- Params\n",
    "local nb_pts=100*4\n",
    "local labels={-1,1}\n",
    "local sigma=1\n",
    "local mu=3\n",
    "local bgcolors = {\"#F4DCE3\", \"#B1C1E0\"}\n",
    "local colors = {\"#92304E\", \"#213E78\"}\n",
    "local MSECriterion = nn.MSECriterion()\n",
    "local marginCriterion = nn.MarginCriterion()\n",
    "\n",
    "local x, y = generate_data( 0, nb_pts, labels, sigma, mu)\n",
    "\n",
    "-- linéaire + MSE\n",
    "local model = gradient_descent(x,y, MSECriterion) \n",
    "draw(x, y, model, colors, bgcolors, labels, \"linear-MSE\")\n",
    "\n",
    "-- linéaire + Margin\n",
    "local model = gradient_descent(x,y, marginCriterion) \n",
    "draw(x, y, model, colors, bgcolors, labels, \"linear-margin\")\n",
    "\n",
    "itorch.image( { image.load( 'linear-MSE.png'), image.load('linear-margin.png')} )"
   ]
  },
  {
   "cell_type": "markdown",
   "metadata": {},
   "source": [
    "## Kernel-trick + Linear2"
   ]
  },
  {
   "cell_type": "code",
   "execution_count": null,
   "metadata": {
    "collapsed": false
   },
   "outputs": [],
   "source": [
    "-- Params\n",
    "local nb_pts=100*4\n",
    "local labels={-1,1}\n",
    "local sigma=1\n",
    "local mu=3\n",
    "local bgcolors = {\"#F4DCE3\", \"#B1C1E0\"}\n",
    "local colors = {\"#92304E\", \"#213E78\"}\n",
    "local MSECriterion = nn.MSECriterion()\n",
    "local marginCriterion = nn.MarginCriterion()\n",
    "\n",
    "local x, y = generate_data( 1, nb_pts, labels, sigma, mu)\n",
    "x_kernel = torch.cat(x, torch.cmul(x[{{},1}],x[{{},2}]),2)\n",
    "\n",
    "-- Non-linéaire + MSE + kernel trick\n",
    "local model = gradient_descent(x_kernel,y, MSECriterion) \n",
    "draw(x, y, model, colors, bgcolors, labels, \"non-linear-mse-kernel-trick\", true)\n",
    "\n",
    "-- Non-linéaire + Margin + kernel trick\n",
    "local model = gradient_descent(x_kernel,y, marginCriterion) \n",
    "draw(x, y, model, colors, bgcolors, labels, \"non-linear-margin-kernel-trick\", true)\n",
    "\n",
    "itorch.image( { image.load( 'non-linear-mse-kernel-trick.png'), image.load('non-linear-margin-kernel-trick.png')} )"
   ]
  },
  {
   "cell_type": "markdown",
   "metadata": {},
   "source": [
    "## Modèle 3 couches + Linear2"
   ]
  },
  {
   "cell_type": "code",
   "execution_count": null,
   "metadata": {
    "collapsed": false
   },
   "outputs": [],
   "source": [
    "-- Modèle non linéaire 3 couches\n",
    "-- R² -> R³ -> R\n",
    "local nb_pts=100*4\n",
    "local labels={-1,1}\n",
    "local sigma=1\n",
    "local mu=3\n",
    "local bgcolors = {\"#F4DCE3\", \"#B1C1E0\"}\n",
    "local colors = {\"#92304E\", \"#213E78\"}\n",
    "\n",
    "local x, y = generate_data( 1, nb_pts, labels, sigma, mu)\n",
    "local MSECriterion = nn.MSECriterion()\n",
    "local MarginCriterion = nn.MarginCriterion()\n",
    "\n",
    "local learning_rate =  1e-2\n",
    "local nb_iter = 1e5\n",
    "\n",
    "function neural_net(x,y,criterion)     \n",
    "    local couche1 = nn.Linear2(2, 2)\n",
    "    local couche2 = nn.Tanh()\n",
    "    local couche3 = nn.Linear2(2, 1)\n",
    "\n",
    "    for i=0, nb_iter do\n",
    "      couche1:zeroGradParameters()\n",
    "      couche2:zeroGradParameters()\n",
    "\n",
    "      fo1 = couche1:forward(x)\n",
    "      fo2 = couche2:forward(fo1)\n",
    "      fo3 = couche3:forward(fo2)\n",
    "      loss = criterion:forward(fo3, y)\n",
    "\n",
    "      bo3 = criterion:backward(fo3, y)\n",
    "      bo2 = couche3:backward(fo2, bo3)\n",
    "      bo1 = couche2:backward(fo1, bo2)\n",
    "      bo0 = couche1:backward(x, bo1)\n",
    "\n",
    "      couche1:updateParameters(learning_rate)\n",
    "      couche3:updateParameters(learning_rate)\n",
    "    end\n",
    "    \n",
    "    return {couche1, couche2, couche3}\n",
    "end\n",
    "\n",
    "-- 3 couches - MSECriterion\n",
    "local model = neural_net(x,y,MSECriterion)\n",
    "draw(x, y, model, colors, bgcolors, labels, \"modele-3-couches-MSE\", false)\n",
    "\n",
    "-- 3 couches - MarginCriterion\n",
    "local model = neural_net(x,y,MarginCriterion)\n",
    "draw(x, y, model, colors, bgcolors, labels, \"modele-3-couches-margin\", false)\n",
    "\n",
    "itorch.image( { image.load(\"modele-3-couches-MSE.png\"), image.load(\"modele-3-couches-margin.png\")} )"
   ]
  },
  {
   "cell_type": "markdown",
   "metadata": {},
   "source": [
    "On remarque que notre modèle n'est pas capable de résoudre le problème XOR vue qu'il ne prend pas en compte le biais."
   ]
  },
  {
   "cell_type": "code",
   "execution_count": null,
   "metadata": {
    "collapsed": false,
    "scrolled": true
   },
   "outputs": [],
   "source": [
    "-- Modèle non linéaire 3 couches\n",
    "-- R² -> R³ -> R\n",
    "local nb_pts=100*4\n",
    "local labels={-1,1}\n",
    "local sigma=1\n",
    "local mu=3\n",
    "local bgcolors = {\"#F4DCE3\", \"#B1C1E0\"}\n",
    "local colors = {\"#92304E\", \"#213E78\"}\n",
    "\n",
    "local x, y = generate_data( 1, nb_pts, labels, sigma, mu)\n",
    "local MSECriterion = nn.MSECriterion()\n",
    "local MarginCriterion = nn.MarginCriterion()\n",
    "\n",
    "local learning_rate =  1e-2\n",
    "local nb_iter = 1e5\n",
    "\n",
    "function neural_net(x,y,criterion)     \n",
    "    local couche1 = nn.Linear(2, 2)\n",
    "    local couche2 = nn.ReQU2()\n",
    "    local couche3 = nn.Linear(2, 1)\n",
    "\n",
    "    for i=0, nb_iter do\n",
    "      couche1:zeroGradParameters()\n",
    "      couche2:zeroGradParameters()\n",
    "\n",
    "      fo1 = couche1:forward(x)\n",
    "      fo2 = couche2:forward(fo1)\n",
    "      fo3 = couche3:forward(fo2)\n",
    "      loss = criterion:forward(fo3, y)\n",
    "\n",
    "      bo3 = criterion:backward(fo3, y)\n",
    "      bo2 = couche3:backward(fo2, bo3)\n",
    "      bo1 = couche2:backward(fo1, bo2)\n",
    "      bo0 = couche1:backward(x, bo1)\n",
    "\n",
    "      couche1:updateParameters(learning_rate)\n",
    "      couche3:updateParameters(learning_rate)\n",
    "    end\n",
    "    \n",
    "    return {couche1, couche2, couche3}\n",
    "end\n",
    "\n",
    "-- 3 couches - MSECriterion\n",
    "local model = neural_net(x,y,MSECriterion)\n",
    "draw(x, y, model, colors, bgcolors, labels, \"modele-3-ReQU-couches-MSE\", false)\n",
    "\n",
    "-- 3 couches - MarginCriterion\n",
    "local model = neural_net(x,y,MarginCriterion)\n",
    "draw(x, y, model, colors, bgcolors, labels, \"modele-3-ReQU-couches-margin\", false)\n",
    "\n",
    "itorch.image( { image.load(\"modele-3-ReQU-couches-MSE.png\"), image.load(\"modele-3-ReQU-couches-margin.png\")} )"
   ]
  },
  {
   "cell_type": "markdown",
   "metadata": {},
   "source": [
    "Nous remarquons qu'il y a un vrais problème de classification lorsqu'on utilise des fonctions linéaire sans biais, que ce soit avec un critère MSE ou Margin."
   ]
  },
  {
   "cell_type": "markdown",
   "metadata": {},
   "source": [
    "## Conclusion\n",
    "Nous concluons que les modèles sans biais ne sont pas efficaces pour la classification non linéaire."
   ]
  }
 ],
 "metadata": {
  "kernelspec": {
   "display_name": "iTorch",
   "language": "lua",
   "name": "itorch"
  },
  "language_info": {
   "name": "lua",
   "version": "20004"
  }
 },
 "nbformat": 4,
 "nbformat_minor": 0
}
