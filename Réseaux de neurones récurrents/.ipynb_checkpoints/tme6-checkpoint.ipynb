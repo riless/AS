{
 "cells": [
  {
   "cell_type": "markdown",
   "metadata": {},
   "source": [
    "# TME6 - Réseaux de neurones récurrents"
   ]
  },
  {
   "cell_type": "markdown",
   "metadata": {},
   "source": [
    "script.sh\n",
    "document -> document préprocessé\n",
    "\n",
    "prepare_data.lua --help\n",
    "document txt -> 2 fichiers tenseurs\n",
    "\n",
    "load_exemple.lua\n",
    "-> vocabulaire\n",
    "-> x_batches\n",
    "-> y_batches\n",
    "\n",
    "-- transformer les x_batches et y_batches en vecteurs de tenseurs"
   ]
  },
  {
   "cell_type": "code",
   "execution_count": 1,
   "metadata": {
    "collapsed": false
   },
   "outputs": [
    {
     "data": {
      "text/plain": [
       "loading data files...\t\n"
      ]
     },
     "execution_count": 1,
     "metadata": {},
     "output_type": "execute_result"
    },
    {
     "data": {
      "text/plain": [
       "cutting off end of data so that the batches/sequences divide evenly\t\n",
       "reshaping tensor...\t\n",
       "data load done.\t\n"
      ]
     },
     "execution_count": 1,
     "metadata": {},
     "output_type": "execute_result"
    }
   ],
   "source": [
    "require 'nn'\n",
    "require 'torch'\n",
    "\n",
    "--[[\n",
    "    print(v)\n",
    "    print(v.x_batches[1])\n",
    "    print(v.y_batches[1])\n",
    "]]--\n",
    "function load_exemples() \n",
    "    local CharLMMinibatchLoader=require 'as/CharLMMinibatchLoader'\n",
    "    local v=CharLMMinibatchLoader.create(\"as/data.t7\",\"as/vocab.t7\",1,50)\n",
    "    return v\n",
    "end\n",
    "\n",
    "function create_g(dim_x, dim_h)\n",
    "    local input_x = nn.Identity()()\n",
    "    local input_h = nn.Identity()()\n",
    "    \n",
    "    local lx = nn.Linear(dim_x, dim_h)(input_x)\n",
    "    local lh = nn.Linear(dim_h, dim_h)(input_h)\n",
    "    \n",
    "    a = nn.CAddTable()({lx, lh})\n",
    "    b = nn.Tanh(a)\n",
    "    \n",
    "    return nn.gModule({input_x, input_h}, {b})\n",
    "end\n",
    "\n",
    "function create_h(dim_h, N) -- mémoire ( état des neurones après t mots )\n",
    "    local input_h = nn.Identity()()\n",
    "    local input_n = nn.Identity()()\n",
    "    \n",
    "    local lh = nn.Linear(dim_h, N)(input_h)\n",
    "    local ls = nn.LogSoftMax(dim_h, dim_h)(input_n)\n",
    "    \n",
    "    a = nn.CAddTable()({lh, ln})\n",
    "    b = nn.ClassNLLCriterion(a)\n",
    "    \n",
    "    return nn.gModule({input_h, input_n}, {b})\n",
    "end\n",
    "\n",
    "\n",
    "function create_rnn()\n",
    "    \n",
    "end\n",
    "\n",
    "data = load_exemples()\n",
    "-- print (data.x_batches[1]))\n",
    "\n",
    "T = 50\n",
    "-- n = --\n",
    "N = 10 -- cross-val pour déterminer la taille de N ( taille de l'espace latent )\n",
    "\n",
    "dim_x = 10\n",
    "dim_h = 10\n",
    "g = create_g(dim_x, dim_h);\n",
    "h = create_h(dim_h, N) \n",
    "\n",
    "\n",
    "\n"
   ]
  }
 ],
 "metadata": {
  "kernelspec": {
   "display_name": "iTorch",
   "language": "lua",
   "name": "itorch"
  },
  "language_info": {
   "name": "lua",
   "version": "20004"
  }
 },
 "nbformat": 4,
 "nbformat_minor": 0
}
